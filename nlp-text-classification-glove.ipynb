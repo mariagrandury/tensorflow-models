{
 "cells": [
  {
   "cell_type": "markdown",
   "metadata": {},
   "source": [
    "<h1 style=\"color: white; \n",
    "    font-size: 46px; \n",
    "    text-align: center; \n",
    "    background: #00ffcc; \n",
    "    padding: 30px; \n",
    "    \">Text Classification with GloVe</h1>"
   ]
  },
  {
   "cell_type": "code",
   "execution_count": 2,
   "metadata": {},
   "outputs": [],
   "source": [
    "import json\n",
    "import tensorflow as tf\n",
    "import csv\n",
    "import random\n",
    "import numpy as np\n",
    "\n",
    "from tensorflow.keras.preprocessing.text import Tokenizer\n",
    "from tensorflow.keras.preprocessing.sequence import pad_sequences\n",
    "from tensorflow.keras.utils import to_categorical\n",
    "from tensorflow.keras import regularizers"
   ]
  },
  {
   "cell_type": "code",
   "execution_count": 3,
   "metadata": {},
   "outputs": [],
   "source": [
    "embedding_dim = 100\n",
    "max_length = 16\n",
    "trunc_type='post'\n",
    "padding_type='post'\n",
    "oov_tok = \"<OOV>\"\n",
    "training_size=160000\n",
    "test_portion=.1"
   ]
  },
  {
   "cell_type": "markdown",
   "metadata": {},
   "source": [
    "# Load the data\n",
    "\n",
    "- Dataset:  https://www.kaggle.com/kazanova/sentiment140"
   ]
  },
  {
   "cell_type": "code",
   "execution_count": 4,
   "metadata": {},
   "outputs": [],
   "source": [
    "DATA_URLS = ['https://storage.googleapis.com/laurencemoroney-blog.appspot.com/training_cleaned.csv']\n",
    "DIR_NAME = 'sentiments'\n",
    "    \n",
    "DATA_FILE_EXT = '.csv'\n",
    "DATA_DIR_PATH = './data/' + DIR_NAME"
   ]
  },
  {
   "cell_type": "code",
   "execution_count": 5,
   "metadata": {},
   "outputs": [
    {
     "name": "stdout",
     "output_type": "stream",
     "text": [
      "Downloading https://storage.googleapis.com/laurencemoroney-blog.appspot.com/training_cleaned.csv\n",
      "100% [..................................................] 238942690 / 238942690\n",
      " \n",
      "Extracting files from ./data/sentiments\\training_cleaned.csv\n",
      "\n",
      "Done!\n"
     ]
    }
   ],
   "source": [
    "# !pip install wget\n",
    "\n",
    "import os\n",
    "import wget\n",
    "\n",
    "def download_wget(URLS, FILE_EXT, DIR_PATH):\n",
    "    for url in URLS:\n",
    "        target_file = url.split('/')[-1]\n",
    "        if target_file not in os.listdir(DIR_PATH):\n",
    "            print('Downloading', url)\n",
    "            wget.download(url, out=DIR_PATH)\n",
    "            file_path = os.path.join(DIR_PATH, target_file)\n",
    "            print('\\n \\nExtracting files from', file_path)\n",
    "            print('\\nDone!')\n",
    "        else:\n",
    "            print('Already downloaded', url)\n",
    "\n",
    "\n",
    "if not os.path.isdir('data'):\n",
    "    os.mkdir('data')    \n",
    "    \n",
    "if not os.path.isdir('data/' + DIR_NAME):\n",
    "    os.mkdir('data/' + DIR_NAME)              \n",
    "\n",
    "    \n",
    "download_wget(DATA_URLS, DATA_FILE_EXT, DATA_DIR_PATH)"
   ]
  },
  {
   "cell_type": "code",
   "execution_count": 7,
   "metadata": {},
   "outputs": [],
   "source": [
    "corpus = []\n",
    "\n",
    "num_sentences = 0\n",
    "\n",
    "with open(\"./data/sentiments/training_cleaned.csv\", encoding=\"utf8\") as csvfile:\n",
    "    reader = csv.reader(csvfile, delimiter=',')\n",
    "    for row in reader:\n",
    "        list_item=[]\n",
    "        list_item.append(row[5])\n",
    "        this_label=row[0]\n",
    "        if this_label=='0':\n",
    "            list_item.append(0)\n",
    "        else:\n",
    "            list_item.append(1)\n",
    "        num_sentences = num_sentences + 1\n",
    "        corpus.append(list_item)"
   ]
  },
  {
   "cell_type": "code",
   "execution_count": 8,
   "metadata": {},
   "outputs": [
    {
     "name": "stdout",
     "output_type": "stream",
     "text": [
      "1600000\n",
      "1600000\n",
      "[\"is upset that he can't update his Facebook by texting it... and might cry as a result  School today also. Blah!\", 0]\n"
     ]
    }
   ],
   "source": [
    "print(num_sentences)\n",
    "print(len(corpus))\n",
    "print(corpus[1])"
   ]
  },
  {
   "cell_type": "code",
   "execution_count": 9,
   "metadata": {},
   "outputs": [],
   "source": [
    "sentences=[]\n",
    "labels=[]\n",
    "random.shuffle(corpus)\n",
    "for x in range(training_size):\n",
    "    sentences.append(corpus[x][0])\n",
    "    labels.append(corpus[x][1])\n",
    "\n",
    "\n",
    "tokenizer = Tokenizer()\n",
    "tokenizer.fit_on_texts(sentences)\n",
    "\n",
    "word_index = tokenizer.word_index\n",
    "vocab_size = len(word_index)\n",
    "\n",
    "sequences = tokenizer.texts_to_sequences(sentences)\n",
    "padded = pad_sequences(sequences, maxlen=max_length, padding=padding_type, truncating=trunc_type)\n",
    "\n",
    "split = int(test_portion * training_size)\n",
    "\n",
    "test_sequences = padded[0:split]\n",
    "training_sequences = padded[split:training_size]\n",
    "test_labels = labels[0:split]\n",
    "training_labels = labels[split:training_size]"
   ]
  },
  {
   "cell_type": "code",
   "execution_count": 10,
   "metadata": {},
   "outputs": [
    {
     "name": "stdout",
     "output_type": "stream",
     "text": [
      "138697\n",
      "1\n"
     ]
    }
   ],
   "source": [
    "print(vocab_size)\n",
    "print(word_index['i'])"
   ]
  },
  {
   "cell_type": "markdown",
   "metadata": {},
   "source": [
    "# The model\n",
    "\n",
    "- GloVe: Global Vectors for Word Representation https://nlp.stanford.edu/projects/glove/"
   ]
  },
  {
   "cell_type": "code",
   "execution_count": 11,
   "metadata": {},
   "outputs": [
    {
     "name": "stdout",
     "output_type": "stream",
     "text": [
      "Downloading https://storage.googleapis.com/laurencemoroney-blog.appspot.com/glove.6B.100d.txt\n",
      "100% [..................................................] 347116733 / 347116733\n",
      " \n",
      "Extracting files from ./models\\glove.6B.100d.txt\n",
      "\n",
      "Done!\n"
     ]
    }
   ],
   "source": [
    "MODEL_URLS = ['https://storage.googleapis.com/laurencemoroney-blog.appspot.com/glove.6B.100d.txt']    \n",
    "MODEL_FILE_EXT = '.txt'\n",
    "MODEL_DIR_PATH = './models'    \n",
    "    \n",
    "download_wget(MODEL_URLS, MODEL_FILE_EXT, MODEL_DIR_PATH)"
   ]
  },
  {
   "cell_type": "code",
   "execution_count": 14,
   "metadata": {},
   "outputs": [],
   "source": [
    "embeddings_index = {};\n",
    "with open('./models/glove.6B.100d.txt', encoding=\"utf8\") as f:\n",
    "    for line in f:\n",
    "        values = line.split();\n",
    "        word = values[0];\n",
    "        coefs = np.asarray(values[1:], dtype='float32');\n",
    "        embeddings_index[word] = coefs;\n",
    "\n",
    "embeddings_matrix = np.zeros((vocab_size+1, embedding_dim));\n",
    "for word, i in word_index.items():\n",
    "    embedding_vector = embeddings_index.get(word);\n",
    "    if embedding_vector is not None:\n",
    "        embeddings_matrix[i] = embedding_vector;"
   ]
  },
  {
   "cell_type": "code",
   "execution_count": 15,
   "metadata": {},
   "outputs": [
    {
     "name": "stdout",
     "output_type": "stream",
     "text": [
      "138698\n"
     ]
    }
   ],
   "source": [
    "print(len(embeddings_matrix))"
   ]
  },
  {
   "cell_type": "code",
   "execution_count": 16,
   "metadata": {},
   "outputs": [
    {
     "name": "stdout",
     "output_type": "stream",
     "text": [
      "Model: \"sequential\"\n",
      "_________________________________________________________________\n",
      "Layer (type)                 Output Shape              Param #   \n",
      "=================================================================\n",
      "embedding (Embedding)        (None, 16, 100)           13869800  \n",
      "_________________________________________________________________\n",
      "dropout (Dropout)            (None, 16, 100)           0         \n",
      "_________________________________________________________________\n",
      "conv1d (Conv1D)              (None, 12, 64)            32064     \n",
      "_________________________________________________________________\n",
      "max_pooling1d (MaxPooling1D) (None, 3, 64)             0         \n",
      "_________________________________________________________________\n",
      "unified_lstm (UnifiedLSTM)   (None, 64)                33024     \n",
      "_________________________________________________________________\n",
      "dense (Dense)                (None, 1)                 65        \n",
      "=================================================================\n",
      "Total params: 13,934,953\n",
      "Trainable params: 65,153\n",
      "Non-trainable params: 13,869,800\n",
      "_________________________________________________________________\n"
     ]
    }
   ],
   "source": [
    "model = tf.keras.Sequential([\n",
    "    tf.keras.layers.Embedding(vocab_size+1, embedding_dim, input_length=max_length, weights=[embeddings_matrix], trainable=False),\n",
    "    tf.keras.layers.Dropout(0.2),\n",
    "    tf.keras.layers.Conv1D(64, 5, activation='relu'),\n",
    "    tf.keras.layers.MaxPooling1D(pool_size=4),\n",
    "    tf.keras.layers.LSTM(64),\n",
    "    tf.keras.layers.Dense(1, activation='sigmoid')\n",
    "])\n",
    "model.compile(loss='binary_crossentropy',optimizer='adam',metrics=['accuracy'])\n",
    "model.summary()"
   ]
  },
  {
   "cell_type": "code",
   "execution_count": 17,
   "metadata": {},
   "outputs": [
    {
     "name": "stdout",
     "output_type": "stream",
     "text": [
      "Train on 144000 samples, validate on 16000 samples\n",
      "Epoch 1/50\n",
      "144000/144000 - 70s - loss: 0.6136 - accuracy: 0.6533 - val_loss: 0.5721 - val_accuracy: 0.6964\n",
      "Epoch 2/50\n",
      "144000/144000 - 67s - loss: 0.5578 - accuracy: 0.7070 - val_loss: 0.5539 - val_accuracy: 0.7088\n",
      "Epoch 3/50\n",
      "144000/144000 - 61s - loss: 0.5376 - accuracy: 0.7232 - val_loss: 0.5476 - val_accuracy: 0.7139\n",
      "Epoch 4/50\n",
      "144000/144000 - 63s - loss: 0.5258 - accuracy: 0.7307 - val_loss: 0.5444 - val_accuracy: 0.7159\n",
      "Epoch 5/50\n",
      "144000/144000 - 61s - loss: 0.5160 - accuracy: 0.7384 - val_loss: 0.5396 - val_accuracy: 0.7188\n",
      "Epoch 6/50\n",
      "144000/144000 - 66s - loss: 0.5097 - accuracy: 0.7438 - val_loss: 0.5353 - val_accuracy: 0.7270\n",
      "Epoch 7/50\n",
      "144000/144000 - 63s - loss: 0.5031 - accuracy: 0.7473 - val_loss: 0.5361 - val_accuracy: 0.7243\n",
      "Epoch 8/50\n",
      "144000/144000 - 62s - loss: 0.4979 - accuracy: 0.7518 - val_loss: 0.5379 - val_accuracy: 0.7270\n",
      "Epoch 9/50\n",
      "144000/144000 - 59s - loss: 0.4946 - accuracy: 0.7542 - val_loss: 0.5366 - val_accuracy: 0.7229\n",
      "Epoch 10/50\n",
      "144000/144000 - 59s - loss: 0.4903 - accuracy: 0.7559 - val_loss: 0.5338 - val_accuracy: 0.7259\n",
      "Epoch 11/50\n",
      "144000/144000 - 62s - loss: 0.4853 - accuracy: 0.7606 - val_loss: 0.5397 - val_accuracy: 0.7238\n",
      "Epoch 12/50\n",
      "144000/144000 - 61s - loss: 0.4841 - accuracy: 0.7610 - val_loss: 0.5346 - val_accuracy: 0.7264\n",
      "Epoch 13/50\n",
      "144000/144000 - 60s - loss: 0.4812 - accuracy: 0.7630 - val_loss: 0.5385 - val_accuracy: 0.7215\n",
      "Epoch 14/50\n",
      "144000/144000 - 60s - loss: 0.4779 - accuracy: 0.7652 - val_loss: 0.5447 - val_accuracy: 0.7222\n",
      "Epoch 15/50\n",
      "144000/144000 - 60s - loss: 0.4777 - accuracy: 0.7656 - val_loss: 0.5363 - val_accuracy: 0.7259\n",
      "Epoch 16/50\n",
      "144000/144000 - 61s - loss: 0.4749 - accuracy: 0.7669 - val_loss: 0.5351 - val_accuracy: 0.7269\n",
      "Epoch 17/50\n",
      "144000/144000 - 59s - loss: 0.4727 - accuracy: 0.7696 - val_loss: 0.5414 - val_accuracy: 0.7225\n",
      "Epoch 18/50\n",
      "144000/144000 - 61s - loss: 0.4708 - accuracy: 0.7703 - val_loss: 0.5367 - val_accuracy: 0.7244\n",
      "Epoch 19/50\n",
      "144000/144000 - 60s - loss: 0.4687 - accuracy: 0.7707 - val_loss: 0.5338 - val_accuracy: 0.7258\n",
      "Epoch 20/50\n",
      "144000/144000 - 61s - loss: 0.4655 - accuracy: 0.7735 - val_loss: 0.5415 - val_accuracy: 0.7239\n",
      "Epoch 21/50\n",
      "144000/144000 - 60s - loss: 0.4639 - accuracy: 0.7737 - val_loss: 0.5398 - val_accuracy: 0.7239\n",
      "Epoch 22/50\n",
      "144000/144000 - 61s - loss: 0.4648 - accuracy: 0.7726 - val_loss: 0.5372 - val_accuracy: 0.7236\n",
      "Epoch 23/50\n",
      "144000/144000 - 60s - loss: 0.4609 - accuracy: 0.7757 - val_loss: 0.5392 - val_accuracy: 0.7284\n",
      "Epoch 24/50\n",
      "144000/144000 - 59s - loss: 0.4610 - accuracy: 0.7756 - val_loss: 0.5347 - val_accuracy: 0.7266\n",
      "Epoch 25/50\n",
      "144000/144000 - 60s - loss: 0.4598 - accuracy: 0.7762 - val_loss: 0.5377 - val_accuracy: 0.7279\n",
      "Epoch 26/50\n",
      "144000/144000 - 59s - loss: 0.4564 - accuracy: 0.7780 - val_loss: 0.5436 - val_accuracy: 0.7243\n",
      "Epoch 27/50\n",
      "144000/144000 - 59s - loss: 0.4568 - accuracy: 0.7784 - val_loss: 0.5394 - val_accuracy: 0.7267\n",
      "Epoch 28/50\n",
      "144000/144000 - 60s - loss: 0.4554 - accuracy: 0.7786 - val_loss: 0.5446 - val_accuracy: 0.7241\n",
      "Epoch 29/50\n",
      "144000/144000 - 61s - loss: 0.4531 - accuracy: 0.7801 - val_loss: 0.5393 - val_accuracy: 0.7269\n",
      "Epoch 30/50\n",
      "144000/144000 - 60s - loss: 0.4528 - accuracy: 0.7798 - val_loss: 0.5415 - val_accuracy: 0.7268\n",
      "Epoch 31/50\n",
      "144000/144000 - 59s - loss: 0.4520 - accuracy: 0.7803 - val_loss: 0.5407 - val_accuracy: 0.7268\n",
      "Epoch 32/50\n",
      "144000/144000 - 59s - loss: 0.4500 - accuracy: 0.7830 - val_loss: 0.5499 - val_accuracy: 0.7247\n",
      "Epoch 33/50\n",
      "144000/144000 - 60s - loss: 0.4485 - accuracy: 0.7837 - val_loss: 0.5422 - val_accuracy: 0.7241\n",
      "Epoch 34/50\n",
      "144000/144000 - 59s - loss: 0.4480 - accuracy: 0.7832 - val_loss: 0.5526 - val_accuracy: 0.7244\n",
      "Epoch 35/50\n",
      "144000/144000 - 61s - loss: 0.4460 - accuracy: 0.7852 - val_loss: 0.5477 - val_accuracy: 0.7284\n",
      "Epoch 36/50\n",
      "144000/144000 - 60s - loss: 0.4459 - accuracy: 0.7853 - val_loss: 0.5465 - val_accuracy: 0.7286\n",
      "Epoch 37/50\n",
      "144000/144000 - 60s - loss: 0.4429 - accuracy: 0.7866 - val_loss: 0.5526 - val_accuracy: 0.7269\n",
      "Epoch 38/50\n",
      "144000/144000 - 60s - loss: 0.4427 - accuracy: 0.7865 - val_loss: 0.5453 - val_accuracy: 0.7250\n",
      "Epoch 39/50\n",
      "144000/144000 - 60s - loss: 0.4405 - accuracy: 0.7884 - val_loss: 0.5482 - val_accuracy: 0.7274\n",
      "Epoch 40/50\n",
      "144000/144000 - 60s - loss: 0.4405 - accuracy: 0.7868 - val_loss: 0.5446 - val_accuracy: 0.7258\n",
      "Epoch 41/50\n",
      "144000/144000 - 59s - loss: 0.4378 - accuracy: 0.7899 - val_loss: 0.5570 - val_accuracy: 0.7221\n",
      "Epoch 42/50\n",
      "144000/144000 - 59s - loss: 0.4376 - accuracy: 0.7897 - val_loss: 0.5517 - val_accuracy: 0.7241\n",
      "Epoch 43/50\n",
      "144000/144000 - 59s - loss: 0.4370 - accuracy: 0.7903 - val_loss: 0.5505 - val_accuracy: 0.7236\n",
      "Epoch 44/50\n",
      "144000/144000 - 60s - loss: 0.4371 - accuracy: 0.7902 - val_loss: 0.5533 - val_accuracy: 0.7234\n",
      "Epoch 45/50\n",
      "144000/144000 - 60s - loss: 0.4343 - accuracy: 0.7922 - val_loss: 0.5495 - val_accuracy: 0.7263\n",
      "Epoch 46/50\n",
      "144000/144000 - 59s - loss: 0.4330 - accuracy: 0.7922 - val_loss: 0.5555 - val_accuracy: 0.7232\n",
      "Epoch 47/50\n",
      "144000/144000 - 60s - loss: 0.4324 - accuracy: 0.7934 - val_loss: 0.5566 - val_accuracy: 0.7264\n",
      "Epoch 48/50\n",
      "144000/144000 - 60s - loss: 0.4308 - accuracy: 0.7940 - val_loss: 0.5535 - val_accuracy: 0.7261\n",
      "Epoch 49/50\n",
      "144000/144000 - 60s - loss: 0.4321 - accuracy: 0.7919 - val_loss: 0.5549 - val_accuracy: 0.7253\n",
      "Epoch 50/50\n",
      "144000/144000 - 60s - loss: 0.4302 - accuracy: 0.7943 - val_loss: 0.5533 - val_accuracy: 0.7213\n"
     ]
    }
   ],
   "source": [
    "num_epochs = 50\n",
    "\n",
    "training_padded = np.array(training_sequences)\n",
    "training_labels = np.array(training_labels)\n",
    "testing_padded = np.array(test_sequences)\n",
    "testing_labels = np.array(test_labels)\n",
    "\n",
    "history = model.fit(training_padded, training_labels, epochs=num_epochs, validation_data=(testing_padded, testing_labels), verbose=2)"
   ]
  },
  {
   "cell_type": "markdown",
   "metadata": {},
   "source": [
    "# Plot the results"
   ]
  },
  {
   "cell_type": "code",
   "execution_count": 18,
   "metadata": {},
   "outputs": [
    {
     "data": {
      "text/plain": [
       "<Figure size 432x288 with 0 Axes>"
      ]
     },
     "execution_count": 18,
     "metadata": {},
     "output_type": "execute_result"
    },
    {
     "data": {
      "image/png": "[encoded data removed]",
      "text/plain": [
       "<Figure size 432x288 with 1 Axes>"
      ]
     },
     "metadata": {
      "needs_background": "light"
     },
     "output_type": "display_data"
    },
    {
     "data": {
      "image/png": "[encoded data removed]",
      "text/plain": [
       "<Figure size 432x288 with 1 Axes>"
      ]
     },
     "metadata": {
      "needs_background": "light"
     },
     "output_type": "display_data"
    },
    {
     "data": {
      "text/plain": [
       "<Figure size 432x288 with 0 Axes>"
      ]
     },
     "metadata": {},
     "output_type": "display_data"
    }
   ],
   "source": [
    "%matplotlib inline\n",
    "\n",
    "import matplotlib.pyplot as plt\n",
    "\n",
    "\n",
    "# Retrieve the results on training and test data sets for each training epoch\n",
    "acc=history.history['accuracy']\n",
    "val_acc=history.history['val_accuracy']\n",
    "loss=history.history['loss']\n",
    "val_loss=history.history['val_loss']\n",
    "\n",
    "epochs=range(len(acc)) # Get number of epochs\n",
    "\n",
    "\n",
    "# Plot training and validation accuracy per epoch\n",
    "plt.plot(epochs, acc, 'b')\n",
    "plt.plot(epochs, val_acc, 'g')\n",
    "plt.title('Training and validation accuracy')\n",
    "plt.xlabel(\"Epochs\")\n",
    "plt.ylabel(\"Accuracy\")\n",
    "plt.legend([\"Accuracy\", \"Validation Accuracy\"])\n",
    "\n",
    "plt.figure()\n",
    "\n",
    "\n",
    "# Plot training and validation loss per epoch\n",
    "plt.plot(epochs, loss, 'b')\n",
    "plt.plot(epochs, val_loss, 'g')\n",
    "plt.title('Training and validation loss')\n",
    "plt.xlabel(\"Epochs\")\n",
    "plt.ylabel(\"Loss\")\n",
    "plt.legend([\"Loss\", \"Validation Loss\"])\n",
    "\n",
    "plt.figure()"
   ]
  }
 ],
 "metadata": {
  "kernelspec": {
   "display_name": "Python 3",
   "language": "python",
   "name": "python3"
  },
  "language_info": {
   "codemirror_mode": {
    "name": "ipython",
    "version": 3
   },
   "file_extension": ".py",
   "mimetype": "text/x-python",
   "name": "python",
   "nbconvert_exporter": "python",
   "pygments_lexer": "ipython3",
   "version": "3.7.3"
  }
 },
 "nbformat": 4,
 "nbformat_minor": 2
}
