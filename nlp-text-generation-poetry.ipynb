{
 "cells": [
  {
   "cell_type": "markdown",
   "metadata": {},
   "source": [
    "<h1 style=\"color: white; \n",
    "    font-size: 46px; \n",
    "    text-align: center; \n",
    "    background: #00ffcc; \n",
    "    padding: 30px; \n",
    "    \">Text Generation - Poetry</h1>"
   ]
  },
  {
   "cell_type": "code",
   "execution_count": 2,
   "metadata": {},
   "outputs": [
    {
     "name": "stdout",
     "output_type": "stream",
     "text": [
      "2.0.0-alpha0\n"
     ]
    }
   ],
   "source": [
    "#!pip install tensorflow==2.0.0-alpha0 \n",
    "\n",
    "import tensorflow as tf\n",
    "print(tf.__version__)"
   ]
  },
  {
   "cell_type": "code",
   "execution_count": 3,
   "metadata": {},
   "outputs": [],
   "source": [
    "from tensorflow.keras.preprocessing.sequence import pad_sequences\n",
    "from tensorflow.keras.layers import Embedding, LSTM, Dense, Dropout, Bidirectional\n",
    "from tensorflow.keras.preprocessing.text import Tokenizer\n",
    "from tensorflow.keras.models import Sequential\n",
    "from tensorflow.keras.optimizers import Adam\n",
    "from tensorflow.keras import regularizers\n",
    "import tensorflow.keras.utils as ku \n",
    "import numpy as np "
   ]
  },
  {
   "cell_type": "markdown",
   "metadata": {},
   "source": [
    "# Load the data"
   ]
  },
  {
   "cell_type": "code",
   "execution_count": 4,
   "metadata": {},
   "outputs": [],
   "source": [
    "DATA_URLS = ['https://storage.googleapis.com/laurencemoroney-blog.appspot.com/sonnets.txt']\n",
    "DIR_NAME = 'sonnets'\n",
    "    \n",
    "DATA_FILE_EXT = '.txt'\n",
    "DATA_DIR_PATH = './data/' + DIR_NAME"
   ]
  },
  {
   "cell_type": "code",
   "execution_count": 5,
   "metadata": {},
   "outputs": [
    {
     "name": "stdout",
     "output_type": "stream",
     "text": [
      "Downloading https://storage.googleapis.com/laurencemoroney-blog.appspot.com/sonnets.txt\n",
      "100% [..........................................................] 93578 / 93578\n",
      " \n",
      "Extracting files from ./data/sonnets\\sonnets.txt\n",
      "\n",
      "Done!\n"
     ]
    }
   ],
   "source": [
    "# !pip install wget\n",
    "\n",
    "import os\n",
    "import wget\n",
    "\n",
    "def download_wget(URLS, FILE_EXT, DIR_PATH):\n",
    "    for url in URLS:\n",
    "        target_file = url.split('/')[-1]\n",
    "        if target_file not in os.listdir(DIR_PATH):\n",
    "            print('Downloading', url)\n",
    "            wget.download(url, out=DIR_PATH)\n",
    "            file_path = os.path.join(DIR_PATH, target_file)\n",
    "            print('\\n \\nExtracting files from', file_path)\n",
    "            print('\\nDone!')\n",
    "        else:\n",
    "            print('Already downloaded', url)\n",
    "\n",
    "\n",
    "if not os.path.isdir('data'):\n",
    "    os.mkdir('data')    \n",
    "    \n",
    "if not os.path.isdir('data/' + DIR_NAME):\n",
    "    os.mkdir('data/' + DIR_NAME)              \n",
    "\n",
    "    \n",
    "download_wget(DATA_URLS, DATA_FILE_EXT, DATA_DIR_PATH)"
   ]
  },
  {
   "cell_type": "code",
   "execution_count": 9,
   "metadata": {},
   "outputs": [],
   "source": [
    "data = open('./data/sonnets/sonnets.txt').read()\n",
    "\n",
    "corpus = data.lower().split(\"\\n\")"
   ]
  },
  {
   "cell_type": "code",
   "execution_count": 10,
   "metadata": {},
   "outputs": [],
   "source": [
    "tokenizer = Tokenizer()\n",
    "\n",
    "tokenizer.fit_on_texts(corpus)\n",
    "total_words = len(tokenizer.word_index) + 1"
   ]
  },
  {
   "cell_type": "code",
   "execution_count": 11,
   "metadata": {},
   "outputs": [],
   "source": [
    "# create input sequences using list of tokens\n",
    "input_sequences = []\n",
    "for line in corpus:\n",
    "    token_list = tokenizer.texts_to_sequences([line])[0]\n",
    "    for i in range(1, len(token_list)):\n",
    "        n_gram_sequence = token_list[:i+1]\n",
    "        input_sequences.append(n_gram_sequence)\n",
    "\n",
    "\n",
    "# pad sequences \n",
    "max_sequence_len = max([len(x) for x in input_sequences])\n",
    "input_sequences = np.array(pad_sequences(input_sequences, maxlen=max_sequence_len, padding='pre'))\n",
    "\n",
    "# create predictors and label\n",
    "predictors, label = input_sequences[:,:-1],input_sequences[:,-1]\n",
    "\n",
    "label = ku.to_categorical(label, num_classes=total_words)"
   ]
  },
  {
   "cell_type": "code",
   "execution_count": 13,
   "metadata": {},
   "outputs": [
    {
     "name": "stdout",
     "output_type": "stream",
     "text": [
      "Model: \"sequential_1\"\n",
      "_________________________________________________________________\n",
      "Layer (type)                 Output Shape              Param #   \n",
      "=================================================================\n",
      "embedding_1 (Embedding)      (None, 10, 100)           321100    \n",
      "_________________________________________________________________\n",
      "bidirectional_1 (Bidirection (None, 10, 300)           301200    \n",
      "_________________________________________________________________\n",
      "dropout_1 (Dropout)          (None, 10, 300)           0         \n",
      "_________________________________________________________________\n",
      "unified_lstm_3 (UnifiedLSTM) (None, 100)               160400    \n",
      "_________________________________________________________________\n",
      "dense_2 (Dense)              (None, 1605)              162105    \n",
      "_________________________________________________________________\n",
      "dense_3 (Dense)              (None, 3211)              5156866   \n",
      "=================================================================\n",
      "Total params: 6,101,671\n",
      "Trainable params: 6,101,671\n",
      "Non-trainable params: 0\n",
      "_________________________________________________________________\n"
     ]
    }
   ],
   "source": [
    "model = tf.keras.Sequential([\n",
    "    tf.keras.layers.Embedding(total_words, 100, input_length=max_sequence_len-1),\n",
    "    tf.keras.layers.Bidirectional(LSTM(150, return_sequences = True)),\n",
    "    tf.keras.layers.Dropout(0.2),\n",
    "    tf.keras.layers.LSTM(100),\n",
    "    tf.keras.layers.Dense(total_words/2, activation='relu', kernel_regularizer=regularizers.l2(0.01)),\n",
    "    tf.keras.layers.Dense(total_words, activation='softmax'),\n",
    "])\n",
    "\n",
    "model.summary()"
   ]
  },
  {
   "cell_type": "code",
   "execution_count": 14,
   "metadata": {},
   "outputs": [],
   "source": [
    "model.compile(loss='categorical_crossentropy', optimizer='adam', metrics=['accuracy'])"
   ]
  },
  {
   "cell_type": "code",
   "execution_count": 15,
   "metadata": {},
   "outputs": [
    {
     "name": "stdout",
     "output_type": "stream",
     "text": [
      "Epoch 1/100\n",
      "15462/15462 [==============================] - 63s 4ms/sample - loss: 6.9179 - accuracy: 0.0227\n",
      "Epoch 2/100\n",
      "15462/15462 [==============================] - 57s 4ms/sample - loss: 6.5005 - accuracy: 0.0219\n",
      "Epoch 3/100\n",
      "15462/15462 [==============================] - 59s 4ms/sample - loss: 6.3897 - accuracy: 0.0276\n",
      "Epoch 4/100\n",
      "15462/15462 [==============================] - 61s 4ms/sample - loss: 6.2687 - accuracy: 0.0297\n",
      "Epoch 5/100\n",
      "15462/15462 [==============================] - 63s 4ms/sample - loss: 6.1805 - accuracy: 0.0358\n",
      "Epoch 6/100\n",
      "15462/15462 [==============================] - 62s 4ms/sample - loss: 6.1041 - accuracy: 0.0363\n",
      "Epoch 7/100\n",
      "15462/15462 [==============================] - 64s 4ms/sample - loss: 6.0313 - accuracy: 0.0400\n",
      "Epoch 8/100\n",
      "15462/15462 [==============================] - 63s 4ms/sample - loss: 5.9526 - accuracy: 0.0454\n",
      "Epoch 9/100\n",
      "15462/15462 [==============================] - 63s 4ms/sample - loss: 5.8672 - accuracy: 0.0471\n",
      "Epoch 10/100\n",
      "15462/15462 [==============================] - 60s 4ms/sample - loss: 5.7663 - accuracy: 0.0537\n",
      "Epoch 11/100\n",
      "15462/15462 [==============================] - 57s 4ms/sample - loss: 5.6621 - accuracy: 0.0615\n",
      "Epoch 12/100\n",
      "15462/15462 [==============================] - 61s 4ms/sample - loss: 5.5645 - accuracy: 0.0655\n",
      "Epoch 13/100\n",
      "15462/15462 [==============================] - 60s 4ms/sample - loss: 5.4584 - accuracy: 0.0724\n",
      "Epoch 14/100\n",
      "15462/15462 [==============================] - 57s 4ms/sample - loss: 5.3527 - accuracy: 0.0768\n",
      "Epoch 15/100\n",
      "15462/15462 [==============================] - 56s 4ms/sample - loss: 5.2446 - accuracy: 0.0838\n",
      "Epoch 16/100\n",
      "15462/15462 [==============================] - 55s 4ms/sample - loss: 5.1412 - accuracy: 0.0932\n",
      "Epoch 17/100\n",
      "15462/15462 [==============================] - 55s 4ms/sample - loss: 5.0356 - accuracy: 0.0971\n",
      "Epoch 18/100\n",
      "15462/15462 [==============================] - 55s 4ms/sample - loss: 4.9298 - accuracy: 0.1050\n",
      "Epoch 19/100\n",
      "15462/15462 [==============================] - 55s 4ms/sample - loss: 4.8252 - accuracy: 0.1125\n",
      "Epoch 20/100\n",
      "15462/15462 [==============================] - 59s 4ms/sample - loss: 4.7170 - accuracy: 0.1217\n",
      "Epoch 21/100\n",
      "15462/15462 [==============================] - 57s 4ms/sample - loss: 4.6141 - accuracy: 0.1321\n",
      "Epoch 22/100\n",
      "15462/15462 [==============================] - 57s 4ms/sample - loss: 4.5112 - accuracy: 0.1412\n",
      "Epoch 23/100\n",
      "15462/15462 [==============================] - 60s 4ms/sample - loss: 4.4093 - accuracy: 0.1506\n",
      "Epoch 24/100\n",
      "15462/15462 [==============================] - 59s 4ms/sample - loss: 4.2927 - accuracy: 0.1666\n",
      "Epoch 25/100\n",
      "15462/15462 [==============================] - 64s 4ms/sample - loss: 4.1861 - accuracy: 0.1816\n",
      "Epoch 26/100\n",
      "15462/15462 [==============================] - 59s 4ms/sample - loss: 4.0905 - accuracy: 0.1927\n",
      "Epoch 27/100\n",
      "15462/15462 [==============================] - 57s 4ms/sample - loss: 3.9897 - accuracy: 0.2073\n",
      "Epoch 28/100\n",
      "15462/15462 [==============================] - 55s 4ms/sample - loss: 3.8868 - accuracy: 0.2249\n",
      "Epoch 29/100\n",
      "15462/15462 [==============================] - 54s 3ms/sample - loss: 3.7908 - accuracy: 0.2397\n",
      "Epoch 30/100\n",
      "15462/15462 [==============================] - 53s 3ms/sample - loss: 3.6982 - accuracy: 0.2603\n",
      "Epoch 31/100\n",
      "15462/15462 [==============================] - 52s 3ms/sample - loss: 3.5851 - accuracy: 0.2828\n",
      "Epoch 32/100\n",
      "15462/15462 [==============================] - 56s 4ms/sample - loss: 3.4981 - accuracy: 0.3029\n",
      "Epoch 33/100\n",
      "15462/15462 [==============================] - 56s 4ms/sample - loss: 3.4132 - accuracy: 0.3205\n",
      "Epoch 34/100\n",
      "15462/15462 [==============================] - 55s 4ms/sample - loss: 3.3181 - accuracy: 0.3424\n",
      "Epoch 35/100\n",
      "15462/15462 [==============================] - 54s 3ms/sample - loss: 3.2420 - accuracy: 0.3571\n",
      "Epoch 36/100\n",
      "15462/15462 [==============================] - 53s 3ms/sample - loss: 3.1562 - accuracy: 0.3756\n",
      "Epoch 37/100\n",
      "15462/15462 [==============================] - 60s 4ms/sample - loss: 3.0850 - accuracy: 0.3912\n",
      "Epoch 38/100\n",
      "15462/15462 [==============================] - 59s 4ms/sample - loss: 3.0054 - accuracy: 0.4112\n",
      "Epoch 39/100\n",
      "15462/15462 [==============================] - 55s 4ms/sample - loss: 2.9287 - accuracy: 0.4294\n",
      "Epoch 40/100\n",
      "15462/15462 [==============================] - 58s 4ms/sample - loss: 2.8426 - accuracy: 0.4503\n",
      "Epoch 41/100\n",
      "15462/15462 [==============================] - 58s 4ms/sample - loss: 2.7884 - accuracy: 0.4600\n",
      "Epoch 42/100\n",
      "15462/15462 [==============================] - 58s 4ms/sample - loss: 2.7290 - accuracy: 0.4728\n",
      "Epoch 43/100\n",
      "15462/15462 [==============================] - 58s 4ms/sample - loss: 2.6687 - accuracy: 0.4861\n",
      "Epoch 44/100\n",
      "15462/15462 [==============================] - 58s 4ms/sample - loss: 2.6021 - accuracy: 0.5031\n",
      "Epoch 45/100\n",
      "15462/15462 [==============================] - 56s 4ms/sample - loss: 2.5387 - accuracy: 0.5142\n",
      "Epoch 46/100\n",
      "15462/15462 [==============================] - 57s 4ms/sample - loss: 2.4792 - accuracy: 0.5288\n",
      "Epoch 47/100\n",
      "15462/15462 [==============================] - 55s 4ms/sample - loss: 2.4307 - accuracy: 0.5405\n",
      "Epoch 48/100\n",
      "15462/15462 [==============================] - 56s 4ms/sample - loss: 2.3807 - accuracy: 0.5551\n",
      "Epoch 49/100\n",
      "15462/15462 [==============================] - 54s 3ms/sample - loss: 2.3388 - accuracy: 0.5616\n",
      "Epoch 50/100\n",
      "15462/15462 [==============================] - 58s 4ms/sample - loss: 2.2824 - accuracy: 0.5735\n",
      "Epoch 51/100\n",
      "15462/15462 [==============================] - 55s 4ms/sample - loss: 2.2354 - accuracy: 0.5841\n",
      "Epoch 52/100\n",
      "15462/15462 [==============================] - 57s 4ms/sample - loss: 2.1884 - accuracy: 0.5932\n",
      "Epoch 53/100\n",
      "15462/15462 [==============================] - 55s 4ms/sample - loss: 2.1507 - accuracy: 0.6028\n",
      "Epoch 54/100\n",
      "15462/15462 [==============================] - 54s 3ms/sample - loss: 2.1022 - accuracy: 0.6160\n",
      "Epoch 55/100\n",
      "15462/15462 [==============================] - 58s 4ms/sample - loss: 2.0616 - accuracy: 0.6243\n",
      "Epoch 56/100\n",
      "15462/15462 [==============================] - 59s 4ms/sample - loss: 2.0223 - accuracy: 0.6331\n",
      "Epoch 57/100\n",
      "15462/15462 [==============================] - 58s 4ms/sample - loss: 1.9837 - accuracy: 0.6427\n",
      "Epoch 58/100\n",
      "15462/15462 [==============================] - 60s 4ms/sample - loss: 1.9468 - accuracy: 0.6493\n",
      "Epoch 59/100\n",
      "15462/15462 [==============================] - 60s 4ms/sample - loss: 1.9120 - accuracy: 0.6544\n",
      "Epoch 60/100\n",
      "15462/15462 [==============================] - 60s 4ms/sample - loss: 1.8868 - accuracy: 0.6610\n",
      "Epoch 61/100\n",
      "15462/15462 [==============================] - 60s 4ms/sample - loss: 1.8604 - accuracy: 0.6660\n",
      "Epoch 62/100\n",
      "15462/15462 [==============================] - 58s 4ms/sample - loss: 1.8251 - accuracy: 0.6755\n",
      "Epoch 63/100\n",
      "15462/15462 [==============================] - 60s 4ms/sample - loss: 1.7887 - accuracy: 0.6815\n",
      "Epoch 64/100\n",
      "15462/15462 [==============================] - 59s 4ms/sample - loss: 1.7573 - accuracy: 0.6885\n",
      "Epoch 65/100\n",
      "15462/15462 [==============================] - 55s 4ms/sample - loss: 1.7255 - accuracy: 0.6978\n",
      "Epoch 66/100\n",
      "15462/15462 [==============================] - 54s 3ms/sample - loss: 1.6919 - accuracy: 0.7047\n",
      "Epoch 67/100\n",
      "15462/15462 [==============================] - 55s 4ms/sample - loss: 1.6856 - accuracy: 0.7042\n",
      "Epoch 68/100\n",
      "15462/15462 [==============================] - 53s 3ms/sample - loss: 1.6520 - accuracy: 0.7101\n",
      "Epoch 69/100\n",
      "15462/15462 [==============================] - 54s 3ms/sample - loss: 1.6203 - accuracy: 0.7159\n",
      "Epoch 70/100\n",
      "15462/15462 [==============================] - 55s 4ms/sample - loss: 1.5867 - accuracy: 0.7247\n",
      "Epoch 71/100\n",
      "15462/15462 [==============================] - 53s 3ms/sample - loss: 1.5814 - accuracy: 0.7232\n",
      "Epoch 72/100\n",
      "15462/15462 [==============================] - 57s 4ms/sample - loss: 1.5681 - accuracy: 0.7251\n",
      "Epoch 73/100\n",
      "15462/15462 [==============================] - 56s 4ms/sample - loss: 1.5277 - accuracy: 0.7354\n",
      "Epoch 74/100\n",
      "15462/15462 [==============================] - 55s 4ms/sample - loss: 1.5132 - accuracy: 0.7365\n",
      "Epoch 75/100\n",
      "15462/15462 [==============================] - 60s 4ms/sample - loss: 1.4961 - accuracy: 0.7400\n",
      "Epoch 76/100\n"
     ]
    },
    {
     "name": "stdout",
     "output_type": "stream",
     "text": [
      "15462/15462 [==============================] - 59s 4ms/sample - loss: 1.4665 - accuracy: 0.7485\n",
      "Epoch 77/100\n",
      "15462/15462 [==============================] - 60s 4ms/sample - loss: 1.4493 - accuracy: 0.7504\n",
      "Epoch 78/100\n",
      "15462/15462 [==============================] - 59s 4ms/sample - loss: 1.4280 - accuracy: 0.7557\n",
      "Epoch 79/100\n",
      "15462/15462 [==============================] - 61s 4ms/sample - loss: 1.4195 - accuracy: 0.7564\n",
      "Epoch 80/100\n",
      "15462/15462 [==============================] - 61s 4ms/sample - loss: 1.4016 - accuracy: 0.7607\n",
      "Epoch 81/100\n",
      "15462/15462 [==============================] - 58s 4ms/sample - loss: 1.3729 - accuracy: 0.7654\n",
      "Epoch 82/100\n",
      "15462/15462 [==============================] - 62s 4ms/sample - loss: 1.3729 - accuracy: 0.7646\n",
      "Epoch 83/100\n",
      "15462/15462 [==============================] - 58s 4ms/sample - loss: 1.3548 - accuracy: 0.7667\n",
      "Epoch 84/100\n",
      "15462/15462 [==============================] - 58s 4ms/sample - loss: 1.3376 - accuracy: 0.7687\n",
      "Epoch 85/100\n",
      "15462/15462 [==============================] - 63s 4ms/sample - loss: 1.3264 - accuracy: 0.7736\n",
      "Epoch 86/100\n",
      "15462/15462 [==============================] - 59s 4ms/sample - loss: 1.3013 - accuracy: 0.7786\n",
      "Epoch 87/100\n",
      "15462/15462 [==============================] - 53s 3ms/sample - loss: 1.2837 - accuracy: 0.7826\n",
      "Epoch 88/100\n",
      "15462/15462 [==============================] - 53s 3ms/sample - loss: 1.2869 - accuracy: 0.7831\n",
      "Epoch 89/100\n",
      "15462/15462 [==============================] - 53s 3ms/sample - loss: 1.2646 - accuracy: 0.7839\n",
      "Epoch 90/100\n",
      "15462/15462 [==============================] - 55s 4ms/sample - loss: 1.2579 - accuracy: 0.7836\n",
      "Epoch 91/100\n",
      "15462/15462 [==============================] - 55s 4ms/sample - loss: 1.2536 - accuracy: 0.7841\n",
      "Epoch 92/100\n",
      "15462/15462 [==============================] - 53s 3ms/sample - loss: 1.2278 - accuracy: 0.7897\n",
      "Epoch 93/100\n",
      "15462/15462 [==============================] - 55s 4ms/sample - loss: 1.2181 - accuracy: 0.7932\n",
      "Epoch 94/100\n",
      "15462/15462 [==============================] - 53s 3ms/sample - loss: 1.1982 - accuracy: 0.7941\n",
      "Epoch 95/100\n",
      "15462/15462 [==============================] - 56s 4ms/sample - loss: 1.1937 - accuracy: 0.7941\n",
      "Epoch 96/100\n",
      "15462/15462 [==============================] - 60s 4ms/sample - loss: 1.1864 - accuracy: 0.7960\n",
      "Epoch 97/100\n",
      "15462/15462 [==============================] - 61s 4ms/sample - loss: 1.1747 - accuracy: 0.7963\n",
      "Epoch 98/100\n",
      "15462/15462 [==============================] - 59s 4ms/sample - loss: 1.1797 - accuracy: 0.7932\n",
      "Epoch 99/100\n",
      "15462/15462 [==============================] - 59s 4ms/sample - loss: 1.1691 - accuracy: 0.7946\n",
      "Epoch 100/100\n",
      "15462/15462 [==============================] - 64s 4ms/sample - loss: 1.1550 - accuracy: 0.8002\n"
     ]
    }
   ],
   "source": [
    "history = model.fit(predictors, label, epochs=100, verbose=1)"
   ]
  },
  {
   "cell_type": "code",
   "execution_count": 17,
   "metadata": {},
   "outputs": [
    {
     "data": {
      "image/png": "[encoded data removed]",
      "text/plain": [
       "<Figure size 432x288 with 1 Axes>"
      ]
     },
     "metadata": {
      "needs_background": "light"
     },
     "output_type": "display_data"
    },
    {
     "data": {
      "image/png": "[encoded data removed]",
      "text/plain": [
       "<Figure size 432x288 with 1 Axes>"
      ]
     },
     "metadata": {
      "needs_background": "light"
     },
     "output_type": "display_data"
    }
   ],
   "source": [
    "%matplotlib inline\n",
    "\n",
    "import matplotlib.pyplot as plt\n",
    "\n",
    "acc = history.history['accuracy']\n",
    "loss = history.history['loss']\n",
    "\n",
    "# Get the number of epochs\n",
    "epochs = range(len(acc))\n",
    "\n",
    "# Plot accuracy per epoch\n",
    "plt.plot(epochs, acc, 'b', label='Training accuracy')\n",
    "plt.xlabel(\"Epochs\")\n",
    "plt.ylabel(\"Accuracy\")\n",
    "plt.title('Training accuracy')\n",
    "\n",
    "plt.figure()\n",
    "\n",
    "# Plot loss per epoch\n",
    "plt.plot(epochs, loss, 'b', label='Training Loss')\n",
    "plt.xlabel(\"Epochs\")\n",
    "plt.ylabel(\"Loss\")\n",
    "plt.title('Training loss')\n",
    "\n",
    "plt.show()"
   ]
  },
  {
   "cell_type": "code",
   "execution_count": 18,
   "metadata": {},
   "outputs": [
    {
     "name": "stdout",
     "output_type": "stream",
     "text": [
      "Help me Obi Wan Kenobi, you're my only hope give them that thy budding new rhyme hate of ill bright not skill wrong did stand glory in dwell alone find love's day are live away by stay away things bear things seen worth bright worth so read thee slain twain green thee give thee ill a several did commend impute impute fall did much groan and live in thee in thy part new more must show thee ill twain not green me find thine dearly ill green thee love you be pace hell alone live forth true love am in thine own face 'no ' was life to me\n"
     ]
    }
   ],
   "source": [
    "seed_text = \"Help me Obi Wan Kenobi, you're my only hope\"\n",
    "next_words = 100\n",
    "  \n",
    "for _ in range(next_words):\n",
    "    token_list = tokenizer.texts_to_sequences([seed_text])[0]\n",
    "    token_list = pad_sequences([token_list], maxlen=max_sequence_len-1, padding='pre')\n",
    "    predicted = model.predict_classes(token_list, verbose=0)\n",
    "    output_word = \"\"\n",
    "    for word, index in tokenizer.word_index.items():\n",
    "        if index == predicted:\n",
    "            output_word = word\n",
    "            break\n",
    "    seed_text += \" \" + output_word\n",
    "print(seed_text)"
   ]
  }
 ],
 "metadata": {
  "kernelspec": {
   "display_name": "Python 3",
   "language": "python",
   "name": "python3"
  },
  "language_info": {
   "codemirror_mode": {
    "name": "ipython",
    "version": 3
   },
   "file_extension": ".py",
   "mimetype": "text/x-python",
   "name": "python",
   "nbconvert_exporter": "python",
   "pygments_lexer": "ipython3",
   "version": "3.7.3"
  }
 },
 "nbformat": 4,
 "nbformat_minor": 2
}
