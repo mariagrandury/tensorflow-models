{
 "cells": [
  {
   "cell_type": "markdown",
   "metadata": {},
   "source": [
    "<h1 style=\"color: white; \n",
    "    font-size: 46px; \n",
    "    text-align: center; \n",
    "    background: #00ffcc; \n",
    "    padding: 30px; \n",
    "    \">Text Classification - Sarcasm</h1>"
   ]
  },
  {
   "cell_type": "code",
   "execution_count": 4,
   "metadata": {},
   "outputs": [
    {
     "name": "stdout",
     "output_type": "stream",
     "text": [
      "2.0.0-alpha0\n"
     ]
    }
   ],
   "source": [
    "#!pip install tensorflow==2.0.0-alpha0 \n",
    "\n",
    "import tensorflow as tf\n",
    "print(tf.__version__)"
   ]
  },
  {
   "cell_type": "code",
   "execution_count": null,
   "metadata": {},
   "outputs": [],
   "source": [
    "from tensorflow.keras.preprocessing.text import Tokenizer\n",
    "from tensorflow.keras.preprocessing.sequence import pad_sequences"
   ]
  },
  {
   "cell_type": "code",
   "execution_count": 7,
   "metadata": {},
   "outputs": [],
   "source": [
    "vocab_size = 1000\n",
    "embedding_dim = 16\n",
    "max_length = 120\n",
    "trunc_type='post'\n",
    "padding_type='post'\n",
    "oov_tok = \"<OOV>\"       \n",
    "training_size = 20000"
   ]
  },
  {
   "cell_type": "markdown",
   "metadata": {},
   "source": [
    "# Load the data"
   ]
  },
  {
   "cell_type": "code",
   "execution_count": 5,
   "metadata": {},
   "outputs": [],
   "source": [
    "DATA_URLS = ['https://storage.googleapis.com/laurencemoroney-blog.appspot.com/sarcasm.json']\n",
    "DIR_NAME = 'sarcasm'\n",
    "    \n",
    "DATA_FILE_EXT = '.json'\n",
    "DATA_DIR_PATH = './data/' + DIR_NAME"
   ]
  },
  {
   "cell_type": "code",
   "execution_count": 6,
   "metadata": {},
   "outputs": [
    {
     "name": "stdout",
     "output_type": "stream",
     "text": [
      "Downloading https://storage.googleapis.com/laurencemoroney-blog.appspot.com/sarcasm.json\n",
      "100% [......................................................] 5643545 / 5643545\n",
      " \n",
      "Extracting files from ./data/sarcasm\\sarcasm.json\n",
      "\n",
      "Done!\n"
     ]
    }
   ],
   "source": [
    "# !pip install wget\n",
    "\n",
    "import os\n",
    "import wget\n",
    "\n",
    "def download_wget(URLS, FILE_EXT, DIR_PATH):\n",
    "    for url in URLS:\n",
    "        target_file = url.split('/')[-1]\n",
    "        if target_file not in os.listdir(DIR_PATH):\n",
    "            print('Downloading', url)\n",
    "            wget.download(url, out=DIR_PATH)\n",
    "            file_path = os.path.join(DIR_PATH, target_file)\n",
    "            print('\\n \\nExtracting files from', file_path)\n",
    "            print('\\nDone!')\n",
    "        else:\n",
    "            print('Already downloaded', url)\n",
    "\n",
    "\n",
    "if not os.path.isdir('data'):\n",
    "    os.mkdir('data')    \n",
    "    \n",
    "if not os.path.isdir('data/' + DIR_NAME):\n",
    "    os.mkdir('data/' + DIR_NAME)              \n",
    "\n",
    "    \n",
    "download_wget(DATA_URLS, DATA_FILE_EXT, DATA_DIR_PATH)"
   ]
  },
  {
   "cell_type": "markdown",
   "metadata": {},
   "source": [
    "# Training and testing set"
   ]
  },
  {
   "cell_type": "code",
   "execution_count": 10,
   "metadata": {},
   "outputs": [],
   "source": [
    "with open(\"./data/sarcasm/sarcasm.json\", 'r') as f:\n",
    "    datastore = json.load(f)\n",
    "    \n",
    "sentences = []\n",
    "labels = []\n",
    "urls = []\n",
    "for item in datastore:\n",
    "    sentences.append(item['headline'])\n",
    "    labels.append(item['is_sarcastic'])"
   ]
  },
  {
   "cell_type": "code",
   "execution_count": 11,
   "metadata": {},
   "outputs": [],
   "source": [
    "training_sentences = sentences[0:training_size]\n",
    "testing_sentences = sentences[training_size:]\n",
    "training_labels = labels[0:training_size]\n",
    "testing_labels = labels[training_size:]"
   ]
  },
  {
   "cell_type": "markdown",
   "metadata": {},
   "source": [
    "# Text preprocessing"
   ]
  },
  {
   "cell_type": "code",
   "execution_count": 12,
   "metadata": {},
   "outputs": [],
   "source": [
    "tokenizer = Tokenizer(num_words=vocab_size, oov_token=oov_tok)\n",
    "tokenizer.fit_on_texts(training_sentences)"
   ]
  },
  {
   "cell_type": "code",
   "execution_count": 13,
   "metadata": {},
   "outputs": [],
   "source": [
    "word_index = tokenizer.word_index"
   ]
  },
  {
   "cell_type": "code",
   "execution_count": 14,
   "metadata": {},
   "outputs": [],
   "source": [
    "training_sequences = tokenizer.texts_to_sequences(training_sentences)\n",
    "training_padded = pad_sequences(training_sequences, maxlen=max_length, padding=padding_type, truncating=trunc_type)\n",
    "\n",
    "testing_sequences = tokenizer.texts_to_sequences(testing_sentences)\n",
    "testing_padded = pad_sequences(testing_sequences, maxlen=max_length, padding=padding_type, truncating=trunc_type)"
   ]
  },
  {
   "cell_type": "markdown",
   "metadata": {},
   "source": [
    "# The model"
   ]
  },
  {
   "cell_type": "code",
   "execution_count": 15,
   "metadata": {},
   "outputs": [
    {
     "name": "stdout",
     "output_type": "stream",
     "text": [
      "Model: \"sequential\"\n",
      "_________________________________________________________________\n",
      "Layer (type)                 Output Shape              Param #   \n",
      "=================================================================\n",
      "embedding (Embedding)        (None, 120, 16)           16000     \n",
      "_________________________________________________________________\n",
      "bidirectional (Bidirectional (None, 64)                12544     \n",
      "_________________________________________________________________\n",
      "dense (Dense)                (None, 24)                1560      \n",
      "_________________________________________________________________\n",
      "dense_1 (Dense)              (None, 1)                 25        \n",
      "=================================================================\n",
      "Total params: 30,129\n",
      "Trainable params: 30,129\n",
      "Non-trainable params: 0\n",
      "_________________________________________________________________\n"
     ]
    }
   ],
   "source": [
    "model_LSTM = tf.keras.Sequential([\n",
    "    tf.keras.layers.Embedding(vocab_size, embedding_dim, input_length=max_length),\n",
    "    tf.keras.layers.Bidirectional(tf.keras.layers.LSTM(32)),\n",
    "    tf.keras.layers.Dense(24, activation='relu'),\n",
    "    tf.keras.layers.Dense(1, activation='sigmoid')\n",
    "])\n",
    "model_LSTM.summary()"
   ]
  },
  {
   "cell_type": "code",
   "execution_count": 16,
   "metadata": {},
   "outputs": [
    {
     "name": "stdout",
     "output_type": "stream",
     "text": [
      "Model: \"sequential_1\"\n",
      "_________________________________________________________________\n",
      "Layer (type)                 Output Shape              Param #   \n",
      "=================================================================\n",
      "embedding_1 (Embedding)      (None, 120, 16)           16000     \n",
      "_________________________________________________________________\n",
      "conv1d (Conv1D)              (None, 116, 128)          10368     \n",
      "_________________________________________________________________\n",
      "global_max_pooling1d (Global (None, 128)               0         \n",
      "_________________________________________________________________\n",
      "dense_2 (Dense)              (None, 24)                3096      \n",
      "_________________________________________________________________\n",
      "dense_3 (Dense)              (None, 1)                 25        \n",
      "=================================================================\n",
      "Total params: 29,489\n",
      "Trainable params: 29,489\n",
      "Non-trainable params: 0\n",
      "_________________________________________________________________\n"
     ]
    }
   ],
   "source": [
    "model_CONV = tf.keras.Sequential([\n",
    "    tf.keras.layers.Embedding(vocab_size, embedding_dim, input_length=max_length),\n",
    "    tf.keras.layers.Conv1D(128, 5, activation='relu'),\n",
    "    tf.keras.layers.GlobalMaxPooling1D(),\n",
    "    tf.keras.layers.Dense(24, activation='relu'),\n",
    "    tf.keras.layers.Dense(1, activation='sigmoid')\n",
    "])\n",
    "model_CONV.summary()"
   ]
  },
  {
   "cell_type": "code",
   "execution_count": 19,
   "metadata": {},
   "outputs": [],
   "source": [
    "model = model_CONV\n",
    "\n",
    "model.compile(loss='binary_crossentropy',optimizer='adam',metrics=['accuracy'])"
   ]
  },
  {
   "cell_type": "code",
   "execution_count": 20,
   "metadata": {},
   "outputs": [
    {
     "name": "stdout",
     "output_type": "stream",
     "text": [
      "Train on 20000 samples, validate on 6709 samples\n",
      "Epoch 1/50\n",
      "20000/20000 [==============================] - 14s 694us/sample - loss: 0.4735 - accuracy: 0.7586 - val_loss: 0.4135 - val_accuracy: 0.8095\n",
      "Epoch 2/50\n",
      "20000/20000 [==============================] - 10s 514us/sample - loss: 0.3594 - accuracy: 0.8406 - val_loss: 0.3905 - val_accuracy: 0.8240\n",
      "Epoch 3/50\n",
      "20000/20000 [==============================] - 11s 544us/sample - loss: 0.3240 - accuracy: 0.8557 - val_loss: 0.3917 - val_accuracy: 0.8229\n",
      "Epoch 4/50\n",
      "20000/20000 [==============================] - 10s 499us/sample - loss: 0.2919 - accuracy: 0.8718 - val_loss: 0.3990 - val_accuracy: 0.8246\n",
      "Epoch 5/50\n",
      "20000/20000 [==============================] - 10s 520us/sample - loss: 0.2609 - accuracy: 0.8899 - val_loss: 0.4192 - val_accuracy: 0.8182\n",
      "Epoch 6/50\n",
      "20000/20000 [==============================] - 12s 612us/sample - loss: 0.2295 - accuracy: 0.9058 - val_loss: 0.4427 - val_accuracy: 0.8183\n",
      "Epoch 7/50\n",
      "20000/20000 [==============================] - 11s 556us/sample - loss: 0.1997 - accuracy: 0.9190 - val_loss: 0.5064 - val_accuracy: 0.8067\n",
      "Epoch 8/50\n",
      "20000/20000 [==============================] - 11s 553us/sample - loss: 0.1705 - accuracy: 0.9334 - val_loss: 0.5233 - val_accuracy: 0.8153\n",
      "Epoch 9/50\n",
      "20000/20000 [==============================] - 11s 532us/sample - loss: 0.1434 - accuracy: 0.9457 - val_loss: 0.5869 - val_accuracy: 0.8107\n",
      "Epoch 10/50\n",
      "20000/20000 [==============================] - 10s 497us/sample - loss: 0.1202 - accuracy: 0.9560 - val_loss: 0.6482 - val_accuracy: 0.8022\n",
      "Epoch 11/50\n",
      "20000/20000 [==============================] - 11s 538us/sample - loss: 0.1024 - accuracy: 0.9630 - val_loss: 0.7109 - val_accuracy: 0.7995\n",
      "Epoch 12/50\n",
      "20000/20000 [==============================] - 11s 554us/sample - loss: 0.0863 - accuracy: 0.9695 - val_loss: 0.8508 - val_accuracy: 0.7854ETA - ETA: 2s - los\n",
      "Epoch 13/50\n",
      "20000/20000 [==============================] - 11s 542us/sample - loss: 0.0731 - accuracy: 0.9740 - val_loss: 0.8710 - val_accuracy: 0.7968\n",
      "Epoch 14/50\n",
      "20000/20000 [==============================] - 10s 506us/sample - loss: 0.0610 - accuracy: 0.9795 - val_loss: 0.9830 - val_accuracy: 0.7952\n",
      "Epoch 15/50\n",
      "20000/20000 [==============================] - 11s 572us/sample - loss: 0.0572 - accuracy: 0.9796 - val_loss: 1.0397 - val_accuracy: 0.8000\n",
      "Epoch 16/50\n",
      "20000/20000 [==============================] - 11s 566us/sample - loss: 0.0506 - accuracy: 0.9823 - val_loss: 1.1986 - val_accuracy: 0.7857\n",
      "Epoch 17/50\n",
      "20000/20000 [==============================] - 10s 513us/sample - loss: 0.0439 - accuracy: 0.9844 - val_loss: 1.2400 - val_accuracy: 0.7867\n",
      "Epoch 18/50\n",
      "20000/20000 [==============================] - 11s 539us/sample - loss: 0.0406 - accuracy: 0.9853 - val_loss: 1.2566 - val_accuracy: 0.7919\n",
      "Epoch 19/50\n",
      "20000/20000 [==============================] - 10s 512us/sample - loss: 0.0415 - accuracy: 0.9841 - val_loss: 1.3088 - val_accuracy: 0.7913\n",
      "Epoch 20/50\n",
      "20000/20000 [==============================] - 10s 510us/sample - loss: 0.0422 - accuracy: 0.9844 - val_loss: 1.3742 - val_accuracy: 0.7831\n",
      "Epoch 21/50\n",
      "20000/20000 [==============================] - 9s 452us/sample - loss: 0.0380 - accuracy: 0.9855 - val_loss: 1.4143 - val_accuracy: 0.7870\n",
      "Epoch 22/50\n",
      "20000/20000 [==============================] - 9s 456us/sample - loss: 0.0339 - accuracy: 0.9876 - val_loss: 1.4966 - val_accuracy: 0.7927\n",
      "Epoch 23/50\n",
      "20000/20000 [==============================] - 10s 483us/sample - loss: 0.0300 - accuracy: 0.9889 - val_loss: 1.5362 - val_accuracy: 0.7849\n",
      "Epoch 24/50\n",
      "20000/20000 [==============================] - 9s 454us/sample - loss: 0.0290 - accuracy: 0.9887 - val_loss: 1.5680 - val_accuracy: 0.7891\n",
      "Epoch 25/50\n",
      "20000/20000 [==============================] - 10s 478us/sample - loss: 0.0296 - accuracy: 0.9889 - val_loss: 1.5956 - val_accuracy: 0.7864\n",
      "Epoch 26/50\n",
      "20000/20000 [==============================] - 9s 436us/sample - loss: 0.0341 - accuracy: 0.9871 - val_loss: 1.6432 - val_accuracy: 0.7874\n",
      "Epoch 27/50\n",
      "20000/20000 [==============================] - 9s 457us/sample - loss: 0.0341 - accuracy: 0.9867 - val_loss: 1.7220 - val_accuracy: 0.7836\n",
      "Epoch 28/50\n",
      "20000/20000 [==============================] - 9s 469us/sample - loss: 0.0304 - accuracy: 0.9884 - val_loss: 1.7154 - val_accuracy: 0.7864\n",
      "Epoch 29/50\n",
      "20000/20000 [==============================] - 9s 458us/sample - loss: 0.0289 - accuracy: 0.9891 - val_loss: 1.7753 - val_accuracy: 0.7889\n",
      "Epoch 30/50\n",
      "20000/20000 [==============================] - 9s 442us/sample - loss: 0.0271 - accuracy: 0.9890 - val_loss: 1.7855 - val_accuracy: 0.7919\n",
      "Epoch 31/50\n",
      "20000/20000 [==============================] - 9s 434us/sample - loss: 0.0258 - accuracy: 0.9895 - val_loss: 1.8636 - val_accuracy: 0.7860\n",
      "Epoch 32/50\n",
      "20000/20000 [==============================] - 9s 466us/sample - loss: 0.0256 - accuracy: 0.9895 - val_loss: 1.9276 - val_accuracy: 0.7836\n",
      "Epoch 33/50\n",
      "20000/20000 [==============================] - 10s 511us/sample - loss: 0.0213 - accuracy: 0.9912 - val_loss: 1.8873 - val_accuracy: 0.7831\n",
      "Epoch 34/50\n",
      "20000/20000 [==============================] - 10s 493us/sample - loss: 0.0229 - accuracy: 0.9907 - val_loss: 1.9725 - val_accuracy: 0.7866\n",
      "Epoch 35/50\n",
      "20000/20000 [==============================] - 10s 496us/sample - loss: 0.0236 - accuracy: 0.9905 - val_loss: 2.0500 - val_accuracy: 0.7882\n",
      "Epoch 36/50\n",
      "20000/20000 [==============================] - 10s 487us/sample - loss: 0.0262 - accuracy: 0.9891 - val_loss: 2.0194 - val_accuracy: 0.7819\n",
      "Epoch 37/50\n",
      "20000/20000 [==============================] - 10s 481us/sample - loss: 0.0237 - accuracy: 0.9897 - val_loss: 2.0739 - val_accuracy: 0.7828\n",
      "Epoch 38/50\n",
      "20000/20000 [==============================] - 9s 446us/sample - loss: 0.0277 - accuracy: 0.9897 - val_loss: 2.0373 - val_accuracy: 0.7857\n",
      "Epoch 39/50\n",
      "20000/20000 [==============================] - 9s 442us/sample - loss: 0.0235 - accuracy: 0.9900 - val_loss: 2.1198 - val_accuracy: 0.7903\n",
      "Epoch 40/50\n",
      "20000/20000 [==============================] - 10s 478us/sample - loss: 0.0193 - accuracy: 0.9920 - val_loss: 2.1631 - val_accuracy: 0.7877\n",
      "Epoch 41/50\n",
      "20000/20000 [==============================] - 10s 477us/sample - loss: 0.0207 - accuracy: 0.9909 - val_loss: 2.2480 - val_accuracy: 0.7843\n",
      "Epoch 42/50\n",
      "20000/20000 [==============================] - 10s 484us/sample - loss: 0.0176 - accuracy: 0.9922 - val_loss: 2.3051 - val_accuracy: 0.7840\n",
      "Epoch 43/50\n",
      "20000/20000 [==============================] - 9s 446us/sample - loss: 0.0227 - accuracy: 0.9901 - val_loss: 2.2347 - val_accuracy: 0.7845\n",
      "Epoch 44/50\n",
      "20000/20000 [==============================] - 10s 498us/sample - loss: 0.0287 - accuracy: 0.9884 - val_loss: 2.2327 - val_accuracy: 0.7779\n",
      "Epoch 45/50\n",
      "20000/20000 [==============================] - 8s 415us/sample - loss: 0.0210 - accuracy: 0.9905 - val_loss: 2.4005 - val_accuracy: 0.7843\n",
      "Epoch 46/50\n",
      "20000/20000 [==============================] - 9s 439us/sample - loss: 0.0215 - accuracy: 0.9911 - val_loss: 2.3818 - val_accuracy: 0.7860\n",
      "Epoch 47/50\n",
      "20000/20000 [==============================] - 10s 493us/sample - loss: 0.0217 - accuracy: 0.9911 - val_loss: 2.3236 - val_accuracy: 0.7772\n",
      "Epoch 48/50\n",
      "20000/20000 [==============================] - 11s 554us/sample - loss: 0.0194 - accuracy: 0.9908 - val_loss: 2.3832 - val_accuracy: 0.7852\n",
      "Epoch 49/50\n",
      "20000/20000 [==============================] - 11s 555us/sample - loss: 0.0228 - accuracy: 0.9906 - val_loss: 2.4275 - val_accuracy: 0.7877\n",
      "Epoch 50/50\n",
      "20000/20000 [==============================] - 10s 522us/sample - loss: 0.0187 - accuracy: 0.9913 - val_loss: 2.4658 - val_accuracy: 0.7830\n"
     ]
    }
   ],
   "source": [
    "num_epochs = 50\n",
    "training_padded = np.array(training_padded)\n",
    "training_labels = np.array(training_labels)\n",
    "testing_padded = np.array(testing_padded)\n",
    "testing_labels = np.array(testing_labels)\n",
    "\n",
    "history = model.fit(training_padded, training_labels, epochs=num_epochs, validation_data=(testing_padded, testing_labels), verbose=1)"
   ]
  },
  {
   "cell_type": "markdown",
   "metadata": {},
   "source": [
    "# Plot the results"
   ]
  },
  {
   "cell_type": "code",
   "execution_count": 25,
   "metadata": {},
   "outputs": [
    {
     "data": {
      "text/plain": [
       "<Figure size 432x288 with 0 Axes>"
      ]
     },
     "execution_count": 25,
     "metadata": {},
     "output_type": "execute_result"
    },
    {
     "data": {
      "image/png": "[encoded data removed]",
      "text/plain": [
       "<Figure size 432x288 with 1 Axes>"
      ]
     },
     "metadata": {
      "needs_background": "light"
     },
     "output_type": "display_data"
    },
    {
     "data": {
      "image/png": "[encoded data removed]",
      "text/plain": [
       "<Figure size 432x288 with 1 Axes>"
      ]
     },
     "metadata": {
      "needs_background": "light"
     },
     "output_type": "display_data"
    },
    {
     "data": {
      "text/plain": [
       "<Figure size 432x288 with 0 Axes>"
      ]
     },
     "metadata": {},
     "output_type": "display_data"
    }
   ],
   "source": [
    "%matplotlib inline\n",
    "\n",
    "import matplotlib.pyplot as plt\n",
    "\n",
    "\n",
    "# Retrieve the results on training and test data sets for each training epoch\n",
    "acc=history.history['accuracy']\n",
    "val_acc=history.history['val_accuracy']\n",
    "loss=history.history['loss']\n",
    "val_loss=history.history['val_loss']\n",
    "\n",
    "epochs=range(len(acc)) # Get number of epochs\n",
    "\n",
    "\n",
    "# Plot training and validation accuracy per epoch\n",
    "plt.plot(epochs, acc, 'b')\n",
    "plt.plot(epochs, val_acc, 'g')\n",
    "plt.title('Training and validation accuracy')\n",
    "plt.xlabel(\"Epochs\")\n",
    "plt.ylabel(\"Accuracy\")\n",
    "plt.legend([\"Accuracy\", \"Validation Accuracy\"])\n",
    "\n",
    "plt.figure()\n",
    "\n",
    "\n",
    "# Plot training and validation loss per epoch\n",
    "plt.plot(epochs, loss, 'b')\n",
    "plt.plot(epochs, val_loss, 'g')\n",
    "plt.title('Training and validation loss')\n",
    "plt.xlabel(\"Epochs\")\n",
    "plt.ylabel(\"Loss\")\n",
    "plt.legend([\"Loss\", \"Validation Loss\"])\n",
    "\n",
    "plt.figure()"
   ]
  },
  {
   "cell_type": "code",
   "execution_count": null,
   "metadata": {},
   "outputs": [],
   "source": [
    "e = model.layers[0]\n",
    "weights = e.get_weights()[0]\n",
    "print(weights.shape) # shape: (vocab_size, embedding_dim)\n",
    "\n",
    "import io\n",
    "\n",
    "out_v = io.open('vecs.tsv', 'w', encoding='utf-8')\n",
    "out_m = io.open('meta.tsv', 'w', encoding='utf-8')\n",
    "\n",
    "for word_num in range(1, tokenizer.vocab_size):\n",
    "    word = tokenizer.decode([word_num])\n",
    "    embeddings = weights[word_num]\n",
    "    out_m.write(word + \"\\n\")\n",
    "    out_v.write('\\t'.join([str(x) for x in embeddings]) + \"\\n\")\n",
    "\n",
    "out_v.close()\n",
    "out_m.close()\n",
    "\n",
    "#from colab import files\n",
    "#files.download('vecs.tsv')\n",
    "#files.download('meta.tsv')"
   ]
  },
  {
   "cell_type": "markdown",
   "metadata": {},
   "source": [
    "# Predictions"
   ]
  },
  {
   "cell_type": "code",
   "execution_count": null,
   "metadata": {},
   "outputs": [],
   "source": [
    "sentence = [\"granny starting to fear spiders in the garden might be real\", \"game of thrones season finale showing this sunday night\"]\n",
    "sequences = tokenizer.texts_to_sequences(sentence)\n",
    "padded = pad_sequences(sequences, maxlen=max_length, padding=padding_type, truncating=trunc_type)\n",
    "print(model.predict(padded))"
   ]
  }
 ],
 "metadata": {
  "kernelspec": {
   "display_name": "Python 3",
   "language": "python",
   "name": "python3"
  },
  "language_info": {
   "codemirror_mode": {
    "name": "ipython",
    "version": 3
   },
   "file_extension": ".py",
   "mimetype": "text/x-python",
   "name": "python",
   "nbconvert_exporter": "python",
   "pygments_lexer": "ipython3",
   "version": "3.7.3"
  }
 },
 "nbformat": 4,
 "nbformat_minor": 2
}
